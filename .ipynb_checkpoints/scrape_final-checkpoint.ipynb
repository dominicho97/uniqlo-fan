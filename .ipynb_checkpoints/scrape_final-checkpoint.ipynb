{
 "cells": [
  {
   "cell_type": "code",
   "execution_count": null,
   "metadata": {},
   "outputs": [],
   "source": [
    "import pandas as pd\n",
    "import numpy as np\n",
    "import requests\n",
    "from bs4 import BeautifulSoup\n",
    "import plotly.express as px\n",
    "import seaborn as sns\n",
    "import matplotlib.pyplot as plt\n"
   ]
  },
  {
   "cell_type": "markdown",
   "metadata": {},
   "source": [
    "## Functions for product details"
   ]
  },
  {
   "cell_type": "code",
   "execution_count": null,
   "metadata": {},
   "outputs": [],
   "source": [
    "# Function to get individual product\n",
    "def get_product(soup):\n",
    "\n",
    "    try:\n",
    "        # Outer Tag Object\n",
    "        title = soup.find(\"h1\", attrs={\"itemprop\":\"name\"})\n",
    "        \n",
    "        # Inner NavigatableString Object\n",
    "        title_value = title.text\n",
    "\n",
    "        # Title as a string value\n",
    "        title_string = title_value.strip()\n",
    "\n",
    "    except AttributeError:\n",
    "        title_string = \"\"\n",
    "\n",
    "    return title_string\n",
    "\n",
    "\n",
    "#Function to get discounterd / current price\n",
    "def get_current_price(soup):\n",
    "\n",
    "    try:\n",
    "        price = soup.find(\"span\", attrs={'class':'price-sales'}).string.strip()\n",
    "    except AttributeError:\n",
    "        price = \"\"\n",
    "\n",
    "    return price\n",
    "\n",
    "\n",
    "#Function to get standard\n",
    "def get_standard_price(soup):\n",
    "\n",
    "    try:\n",
    "        standard_price = soup.find(\"span\", attrs={'class':'price-standard'}).string.strip()\n",
    "    except AttributeError:\n",
    "        standard_price = \"\"\n",
    "\n",
    "    return standard_price\n",
    "\n",
    "\n",
    "def calculate_discount(source, standard_price, current_price):\n",
    "\n",
    "    try:\n",
    "\n",
    "        standard_price=  ''.join(char for char in standard_price if char.isdigit() or char == '.')\n",
    "        current_price = ''.join(char for char in current_price if char.isdigit() or char == '.')\n",
    "\n",
    "        standard_price_float = float(standard_price)\n",
    "        current_price_float = float(current_price)\n",
    "\n",
    "        discount = standard_price_float - current_price_float\n",
    "\n",
    "\n",
    "    except ZeroDivisionError:\n",
    "        discount = 0\n",
    "\n",
    "    return discount\n",
    "\n",
    "def get_product_url(soup):\n",
    "\n",
    "    try:\n",
    "        product_link = soup.find(\"link\", attrs={'rel':'canonical'})['href']\n",
    "    except AttributeError:\n",
    "        product_link = \"\"\n",
    "\n",
    "    return product_link\n",
    "\n",
    "    "
   ]
  },
  {
   "cell_type": "markdown",
   "metadata": {},
   "source": [
    "## Scraping the data from the website"
   ]
  },
  {
   "cell_type": "code",
   "execution_count": null,
   "metadata": {},
   "outputs": [],
   "source": [
    "if __name__ == '__main__':\n",
    "\n",
    "    # add your user agent \n",
    "    HEADERS = ({   'User-Agent': 'Mozilla/5.0 (Macintosh; Intel Mac OS X 10_11_5)'\n",
    "                    'AppleWebKit/537.36 (KHTML, like Gecko)'\n",
    "                    'Chrome/50.0.2661.102 Safari/537.36'})\n",
    "\n",
    "    # The webpage URL\n",
    "    URL = \"https://www.uniqlo.com/eu/en/men/featured/limited-offers\"\n",
    "\n",
    "    # HTTP Request\n",
    "    webpage = requests.get(URL, headers=HEADERS)\n",
    "\n",
    "    # Soup Object containing all data\n",
    "    soup = BeautifulSoup(webpage.content, \"html.parser\")\n",
    "\n",
    "    # Fetch links as List of Tag Objects\n",
    "    links = soup.find_all(\"a\", attrs={'class':'productTile__link js-productLink'})\n",
    "\n",
    "    # Store the links\n",
    "    links_list = []\n",
    "\n",
    "    # Loop for extracting links from products\n",
    "    for link in links:\n",
    "            links_list.append(link.get('href'))\n",
    "\n",
    "  \n",
    "    d = {\"product\":[], \"current_sale_price\":[], \"standard_price\":[],\"discount\":[], \"product_url\":[]}\n",
    "    \n",
    "\n",
    "# Loop for extracting product details from each link \n",
    "    for link in links_list:\n",
    "        new_webpage = requests.get(\"https://www.uniqlo.com\" + link, headers=HEADERS)\n",
    "\n",
    "        new_soup = BeautifulSoup(new_webpage.content, \"html.parser\")\n",
    "\n",
    "# # Function calls to display all product information\n",
    "        d['product'].append(get_product(new_soup))\n",
    "        d['current_sale_price'].append(get_current_price(new_soup))\n",
    "        d['standard_price'].append(get_standard_price(new_soup))\n",
    "        d['discount'].append(calculate_discount(new_soup, get_current_price(new_soup), get_standard_price(new_soup)))\n",
    "        d['product_url'].append(get_product_url(new_soup))\n",
    "\n",
    "\n",
    "    uniqlo_df = pd.DataFrame.from_dict(d)\n",
    "    #convert to csv\n",
    "    # uniqlo_df.to_csv('uniqlo.csv',header=True, index=False)\n",
    "    \n",
    "\n",
    "\n"
   ]
  },
  {
   "cell_type": "markdown",
   "metadata": {},
   "source": [
    "# Show all products"
   ]
  },
  {
   "cell_type": "code",
   "execution_count": null,
   "metadata": {},
   "outputs": [],
   "source": [
    "uniqlo_df"
   ]
  },
  {
   "cell_type": "markdown",
   "metadata": {
    "tags": []
   },
   "source": [
    "# Data Visualizations\n"
   ]
  },
  {
   "cell_type": "code",
   "execution_count": null,
   "metadata": {},
   "outputs": [],
   "source": [
    "dataset = pd.read_csv('uniqlo.csv')\n",
    "sns.countplot(data=dataset, x=\"current_sale_price\")\n",
    "plt.title('Countplot of discounted prices')\n"
   ]
  },
  {
   "cell_type": "code",
   "execution_count": null,
   "metadata": {},
   "outputs": [],
   "source": [
    "sns.boxplot(x=dataset[\"discount\"])\n"
   ]
  },
  {
   "cell_type": "markdown",
   "metadata": {},
   "source": [
    "# Dependencies"
   ]
  },
  {
   "cell_type": "code",
   "execution_count": null,
   "metadata": {},
   "outputs": [],
   "source": [
    "%load_ext watermark\n",
    "\n",
    "# python, ipython, packages, and machine characteristics\n",
    "%watermark -v -m -p pandas,numpy,requests,bs4,plotly,seaborn,matplotlib,watermark \n",
    "\n",
    "\n",
    "print (\" \")\n",
    "%watermark -u -n -t -z \n"
   ]
  },
  {
   "cell_type": "code",
   "execution_count": null,
   "metadata": {},
   "outputs": [],
   "source": []
  },
  {
   "cell_type": "code",
   "execution_count": null,
   "metadata": {},
   "outputs": [],
   "source": []
  }
 ],
 "metadata": {
  "kernelspec": {
   "display_name": "Python 3 (ipykernel)",
   "language": "python",
   "name": "python3"
  },
  "language_info": {
   "codemirror_mode": {
    "name": "ipython",
    "version": 3
   },
   "file_extension": ".py",
   "mimetype": "text/x-python",
   "name": "python",
   "nbconvert_exporter": "python",
   "pygments_lexer": "ipython3",
   "version": "3.9.12"
  }
 },
 "nbformat": 4,
 "nbformat_minor": 4
}
