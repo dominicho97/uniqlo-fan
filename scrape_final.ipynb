{
 "cells": [
  {
   "cell_type": "code",
   "execution_count": 23,
   "metadata": {},
   "outputs": [],
   "source": [
    "import pandas as pd\n",
    "import numpy as np\n",
    "import requests\n",
    "from bs4 import BeautifulSoup\n",
    "import plotly.express as px\n"
   ]
  },
  {
   "cell_type": "markdown",
   "metadata": {},
   "source": [
    "## Functions for product details"
   ]
  },
  {
   "cell_type": "code",
   "execution_count": 24,
   "metadata": {},
   "outputs": [],
   "source": [
    "# Function to get individual product\n",
    "def get_product(soup):\n",
    "\n",
    "    try:\n",
    "        # Outer Tag Object\n",
    "        title = soup.find(\"h1\", attrs={\"itemprop\":\"name\"})\n",
    "        \n",
    "        # Inner NavigatableString Object\n",
    "        title_value = title.text\n",
    "\n",
    "        # Title as a string value\n",
    "        title_string = title_value.strip()\n",
    "\n",
    "    except AttributeError:\n",
    "        title_string = \"\"\n",
    "\n",
    "    return title_string\n",
    "\n",
    "\n",
    "#Function to get discounterd / current price\n",
    "def get_current_price(soup):\n",
    "\n",
    "    try:\n",
    "        price = soup.find(\"span\", attrs={'class':'price-sales'}).string.strip()\n",
    "    except AttributeError:\n",
    "        price = \"\"\n",
    "\n",
    "    return price\n",
    "\n",
    "\n",
    "#Function to get standard\n",
    "def get_standard_price(soup):\n",
    "\n",
    "    try:\n",
    "        standard_price = soup.find(\"span\", attrs={'class':'price-standard'}).string.strip()\n",
    "    except AttributeError:\n",
    "        standard_price = \"\"\n",
    "\n",
    "    return standard_price\n",
    "\n",
    "\n",
    "def calculate_discount(source, standard_price, current_price):\n",
    "\n",
    "    try:\n",
    "\n",
    "        standard_price=  ''.join(char for char in standard_price if char.isdigit() or char == '.')\n",
    "        current_price = ''.join(char for char in current_price if char.isdigit() or char == '.')\n",
    "\n",
    "        standard_price_float = float(standard_price)\n",
    "        current_price_float = float(current_price)\n",
    "\n",
    "        discount = standard_price_float - current_price_float\n",
    "\n",
    "\n",
    "    except ZeroDivisionError:\n",
    "        discount = 0\n",
    "\n",
    "    return discount\n",
    "\n",
    "def get_product_url(soup):\n",
    "\n",
    "    try:\n",
    "        product_link = soup.find(\"link\", attrs={'rel':'canonical'})['href']\n",
    "    except AttributeError:\n",
    "        product_link = \"\"\n",
    "\n",
    "    return product_link\n",
    "\n",
    "    "
   ]
  },
  {
   "cell_type": "markdown",
   "metadata": {},
   "source": [
    "## Scraping the data from the website"
   ]
  },
  {
   "cell_type": "code",
   "execution_count": 25,
   "metadata": {},
   "outputs": [],
   "source": [
    "if __name__ == '__main__':\n",
    "\n",
    "    # add your user agent \n",
    "    HEADERS = ({   'User-Agent': 'Mozilla/5.0 (Macintosh; Intel Mac OS X 10_11_5)'\n",
    "                    'AppleWebKit/537.36 (KHTML, like Gecko)'\n",
    "                    'Chrome/50.0.2661.102 Safari/537.36'})\n",
    "\n",
    "    # The webpage URL\n",
    "    URL = \"https://www.uniqlo.com/eu/en/men/featured/limited-offers\"\n",
    "\n",
    "    # HTTP Request\n",
    "    webpage = requests.get(URL, headers=HEADERS)\n",
    "\n",
    "    # Soup Object containing all data\n",
    "    soup = BeautifulSoup(webpage.content, \"html.parser\")\n",
    "\n",
    "    # Fetch links as List of Tag Objects\n",
    "    links = soup.find_all(\"a\", attrs={'class':'productTile__link js-productLink'})\n",
    "\n",
    "    # Store the links\n",
    "    links_list = []\n",
    "\n",
    "    # Loop for extracting links from products\n",
    "    for link in links:\n",
    "            links_list.append(link.get('href'))\n",
    "\n",
    "  \n",
    "    d = {\"product\":[], \"current_sale_price\":[], \"standard_price\":[],\"discount\":[], \"product_url\":[]}\n",
    "    \n",
    "\n",
    "# Loop for extracting product details from each link \n",
    "    for link in links_list:\n",
    "        new_webpage = requests.get(\"https://www.uniqlo.com\" + link, headers=HEADERS)\n",
    "\n",
    "        new_soup = BeautifulSoup(new_webpage.content, \"html.parser\")\n",
    "\n",
    "# # Function calls to display all product information\n",
    "        d['product'].append(get_product(new_soup))\n",
    "        d['current_sale_price'].append(get_current_price(new_soup))\n",
    "        d['standard_price'].append(get_standard_price(new_soup))\n",
    "        d['discount'].append(calculate_discount(new_soup, get_current_price(new_soup), get_standard_price(new_soup)))\n",
    "        d['product_url'].append(get_product_url(new_soup))\n",
    "\n",
    "\n",
    "    uniqlo_df = pd.DataFrame.from_dict(d)\n",
    "    #convert to csv\n",
    "    # uniqlo_df.to_csv('uniqlo.csv',header=True, index=False)\n",
    "    \n",
    "\n",
    "\n"
   ]
  },
  {
   "cell_type": "markdown",
   "metadata": {},
   "source": [
    "# Show all products"
   ]
  },
  {
   "cell_type": "code",
   "execution_count": 26,
   "metadata": {},
   "outputs": [
    {
     "data": {
      "text/html": [
       "<div>\n",
       "<style scoped>\n",
       "    .dataframe tbody tr th:only-of-type {\n",
       "        vertical-align: middle;\n",
       "    }\n",
       "\n",
       "    .dataframe tbody tr th {\n",
       "        vertical-align: top;\n",
       "    }\n",
       "\n",
       "    .dataframe thead th {\n",
       "        text-align: right;\n",
       "    }\n",
       "</style>\n",
       "<table border=\"1\" class=\"dataframe\">\n",
       "  <thead>\n",
       "    <tr style=\"text-align: right;\">\n",
       "      <th></th>\n",
       "      <th>product</th>\n",
       "      <th>current_sale_price</th>\n",
       "      <th>standard_price</th>\n",
       "      <th>discount</th>\n",
       "      <th>product_url</th>\n",
       "    </tr>\n",
       "  </thead>\n",
       "  <tbody>\n",
       "    <tr>\n",
       "      <th>0</th>\n",
       "      <td>Cotton Linen Overshirt</td>\n",
       "      <td>39.90 €</td>\n",
       "      <td>59.90 €</td>\n",
       "      <td>-20.0</td>\n",
       "      <td>https://www.uniqlo.com/eu/en/product/cotton-li...</td>\n",
       "    </tr>\n",
       "    <tr>\n",
       "      <th>1</th>\n",
       "      <td>Attack On Titan UT Graphic T-Shirt</td>\n",
       "      <td>5.90 €</td>\n",
       "      <td>19.90 €</td>\n",
       "      <td>-14.0</td>\n",
       "      <td>https://www.uniqlo.com/eu/en/product/attack-on...</td>\n",
       "    </tr>\n",
       "    <tr>\n",
       "      <th>2</th>\n",
       "      <td>Slim Fit Chinos</td>\n",
       "      <td>39.90 €</td>\n",
       "      <td>39.90 €</td>\n",
       "      <td>0.0</td>\n",
       "      <td>https://www.uniqlo.com/eu/en/product/slim-fit-...</td>\n",
       "    </tr>\n",
       "    <tr>\n",
       "      <th>3</th>\n",
       "      <td>DRY Piqué Polo Shirt</td>\n",
       "      <td>9.90 €</td>\n",
       "      <td>24.90 €</td>\n",
       "      <td>-15.0</td>\n",
       "      <td>https://www.uniqlo.com/eu/en/product/dry-piqu%...</td>\n",
       "    </tr>\n",
       "    <tr>\n",
       "      <th>4</th>\n",
       "      <td>Attack On Titan UT Graphic T-Shirt</td>\n",
       "      <td>5.90 €</td>\n",
       "      <td>19.90 €</td>\n",
       "      <td>-14.0</td>\n",
       "      <td>https://www.uniqlo.com/eu/en/product/attack-on...</td>\n",
       "    </tr>\n",
       "    <tr>\n",
       "      <th>5</th>\n",
       "      <td>Keith Haring UT Round Mini Shoulder Bag</td>\n",
       "      <td>9.90 €</td>\n",
       "      <td>14.90 €</td>\n",
       "      <td>-5.0</td>\n",
       "      <td>https://www.uniqlo.com/eu/en/product/keith-har...</td>\n",
       "    </tr>\n",
       "    <tr>\n",
       "      <th>6</th>\n",
       "      <td>Uniqlo U AIRism Cotton Striped Oversized Crew ...</td>\n",
       "      <td>12.90 €</td>\n",
       "      <td>19.90 €</td>\n",
       "      <td>-7.0</td>\n",
       "      <td>https://www.uniqlo.com/eu/en/product/uniqlo-u-...</td>\n",
       "    </tr>\n",
       "    <tr>\n",
       "      <th>7</th>\n",
       "      <td>Sweat Pullover Hoodie</td>\n",
       "      <td>49.90 €</td>\n",
       "      <td>49.90 €</td>\n",
       "      <td>0.0</td>\n",
       "      <td>https://www.uniqlo.com/eu/en/product/sweat-pul...</td>\n",
       "    </tr>\n",
       "    <tr>\n",
       "      <th>8</th>\n",
       "      <td>Attack On Titan UT Graphic T-Shirt</td>\n",
       "      <td>5.90 €</td>\n",
       "      <td>19.90 €</td>\n",
       "      <td>-14.0</td>\n",
       "      <td>https://www.uniqlo.com/eu/en/product/attack-on...</td>\n",
       "    </tr>\n",
       "    <tr>\n",
       "      <th>9</th>\n",
       "      <td>AirSense Ultra Light Pleated Trousers (Adam Sc...</td>\n",
       "      <td>29.90 €</td>\n",
       "      <td>49.90 €</td>\n",
       "      <td>-20.0</td>\n",
       "      <td>https://www.uniqlo.com/eu/en/product/airsense-...</td>\n",
       "    </tr>\n",
       "    <tr>\n",
       "      <th>10</th>\n",
       "      <td>Cotton Linen Blend Utility Jacket</td>\n",
       "      <td>24.90 €</td>\n",
       "      <td>59.90 €</td>\n",
       "      <td>-35.0</td>\n",
       "      <td>https://www.uniqlo.com/eu/en/product/cotton-li...</td>\n",
       "    </tr>\n",
       "    <tr>\n",
       "      <th>11</th>\n",
       "      <td>AirSense Ultra Light Shirt Jacket</td>\n",
       "      <td>39.90 €</td>\n",
       "      <td>69.90 €</td>\n",
       "      <td>-30.0</td>\n",
       "      <td>https://www.uniqlo.com/eu/en/product/airsense-...</td>\n",
       "    </tr>\n",
       "  </tbody>\n",
       "</table>\n",
       "</div>"
      ],
      "text/plain": [
       "                                              product current_sale_price  \\\n",
       "0                              Cotton Linen Overshirt            39.90 €   \n",
       "1                  Attack On Titan UT Graphic T-Shirt             5.90 €   \n",
       "2                                     Slim Fit Chinos            39.90 €   \n",
       "3                                DRY Piqué Polo Shirt             9.90 €   \n",
       "4                  Attack On Titan UT Graphic T-Shirt             5.90 €   \n",
       "5             Keith Haring UT Round Mini Shoulder Bag             9.90 €   \n",
       "6   Uniqlo U AIRism Cotton Striped Oversized Crew ...            12.90 €   \n",
       "7                               Sweat Pullover Hoodie            49.90 €   \n",
       "8                  Attack On Titan UT Graphic T-Shirt             5.90 €   \n",
       "9   AirSense Ultra Light Pleated Trousers (Adam Sc...            29.90 €   \n",
       "10                  Cotton Linen Blend Utility Jacket            24.90 €   \n",
       "11                  AirSense Ultra Light Shirt Jacket            39.90 €   \n",
       "\n",
       "   standard_price  discount                                        product_url  \n",
       "0         59.90 €     -20.0  https://www.uniqlo.com/eu/en/product/cotton-li...  \n",
       "1         19.90 €     -14.0  https://www.uniqlo.com/eu/en/product/attack-on...  \n",
       "2         39.90 €       0.0  https://www.uniqlo.com/eu/en/product/slim-fit-...  \n",
       "3         24.90 €     -15.0  https://www.uniqlo.com/eu/en/product/dry-piqu%...  \n",
       "4         19.90 €     -14.0  https://www.uniqlo.com/eu/en/product/attack-on...  \n",
       "5         14.90 €      -5.0  https://www.uniqlo.com/eu/en/product/keith-har...  \n",
       "6         19.90 €      -7.0  https://www.uniqlo.com/eu/en/product/uniqlo-u-...  \n",
       "7         49.90 €       0.0  https://www.uniqlo.com/eu/en/product/sweat-pul...  \n",
       "8         19.90 €     -14.0  https://www.uniqlo.com/eu/en/product/attack-on...  \n",
       "9         49.90 €     -20.0  https://www.uniqlo.com/eu/en/product/airsense-...  \n",
       "10        59.90 €     -35.0  https://www.uniqlo.com/eu/en/product/cotton-li...  \n",
       "11        69.90 €     -30.0  https://www.uniqlo.com/eu/en/product/airsense-...  "
      ]
     },
     "execution_count": 26,
     "metadata": {},
     "output_type": "execute_result"
    }
   ],
   "source": [
    "uniqlo_df"
   ]
  },
  {
   "cell_type": "markdown",
   "metadata": {},
   "source": [
    "# Data Visualizations\n"
   ]
  },
  {
   "cell_type": "code",
   "execution_count": 63,
   "metadata": {},
   "outputs": [
    {
     "data": {
      "text/plain": [
       "Text(0.5, 1.0, 'Countplot of discounted prices')"
      ]
     },
     "execution_count": 63,
     "metadata": {},
     "output_type": "execute_result"
    },
    {
     "data": {
      "image/png": "[encoded data removed]",
      "text/plain": [
       "<Figure size 640x480 with 1 Axes>"
      ]
     },
     "metadata": {},
     "output_type": "display_data"
    }
   ],
   "source": [
    "dataset = pd.read_csv('uniqlo.csv')\n",
    "sns.countplot(data=dataset, x=\"current_sale_price\")\n",
    "plt.title('Countplot of discounted prices')\n"
   ]
  },
  {
   "cell_type": "code",
   "execution_count": 66,
   "metadata": {},
   "outputs": [
    {
     "data": {
      "text/plain": [
       "<AxesSubplot:xlabel='discount'>"
      ]
     },
     "execution_count": 66,
     "metadata": {},
     "output_type": "execute_result"
    },
    {
     "data": {
      "image/png": "[encoded data removed]",
      "text/plain": [
       "<Figure size 640x480 with 1 Axes>"
      ]
     },
     "metadata": {},
     "output_type": "display_data"
    }
   ],
   "source": [
    "sns.boxplot(x=dataset[\"discount\"])\n"
   ]
  },
  {
   "cell_type": "code",
   "execution_count": null,
   "metadata": {},
   "outputs": [],
   "source": []
  }
 ],
 "metadata": {
  "kernelspec": {
   "display_name": "tf_gpu_env",
   "language": "python",
   "name": "python3"
  },
  "language_info": {
   "codemirror_mode": {
    "name": "ipython",
    "version": 3
   },
   "file_extension": ".py",
   "mimetype": "text/x-python",
   "name": "python",
   "nbconvert_exporter": "python",
   "pygments_lexer": "ipython3",
   "version": "3.9.13"
  },
  "orig_nbformat": 4
 },
 "nbformat": 4,
 "nbformat_minor": 2
}
